{
 "cells": [
  {
   "cell_type": "markdown",
   "metadata": {},
   "source": [
    "Muchas veces, después de hacer un cálculo, queremos mostrar de forma sencilla algún resultado de tal forma que cualquiera lo pueda visualizar. A veces, el resultado no es algo sencillo y queremos proporcionar herramientas para que otros puedan toquetear los datos y que vean actualizaciones de forma interactiva."
   ]
  },
  {
   "cell_type": "markdown",
   "metadata": {},
   "source": [
    "## Opciones"
   ]
  },
  {
   "cell_type": "markdown",
   "metadata": {},
   "source": [
    "Para hacer lo anterior tenemos varias opciones dentro del mundo Python:\n",
    "\n",
    "* Panel: https://panel.holoviz.org/\n",
    "* Dash: https://plot.ly/dash/\n",
    "* Voilá: https://github.com/voila-dashboards/voila\n",
    "* Flask (de forma más tradicional)\n",
    "* ...\n",
    "\n",
    "La que te voy a enseñar hoy se llama [streamlit](https://www.streamlit.io/) y consiste en una forma muy sencilla de crear un prototipo de forma rápida y con fácil integración de muchos componentes del *stack* científico de Python."
   ]
  },
  {
   "cell_type": "markdown",
   "metadata": {},
   "source": [
    "## Primeros pasos"
   ]
  },
  {
   "cell_type": "markdown",
   "metadata": {},
   "source": [
    "Considero que tienes `conda` instalado por lo que abrimos un terminal (bash, cmd,..., dependiendo del sistema operativo en el que te encuentres) y escribimos lo siguiente para crear un entorno virtual `conda` con nombre `streamlit`:"
   ]
  },
  {
   "cell_type": "markdown",
   "metadata": {},
   "source": [
    "`conda create -n streamlit -y`"
   ]
  },
  {
   "cell_type": "markdown",
   "metadata": {},
   "source": [
    "Una vez creado el entorno virtual lo puedes inicializar usando el siguiente comando:"
   ]
  },
  {
   "cell_type": "markdown",
   "metadata": {},
   "source": [
    "`conda activate streamlit`"
   ]
  },
  {
   "cell_type": "markdown",
   "metadata": {},
   "source": [
    "Con el entorno activo puedes instalar `streamlit` usando `pip` (en este caso, `streamlit` no está en ningún canal de `conda`):"
   ]
  },
  {
   "cell_type": "markdown",
   "metadata": {},
   "source": [
    "`pip install streamlit`"
   ]
  },
  {
   "cell_type": "markdown",
   "metadata": {},
   "source": [
    "Y deberías estar lista para empezar a trabajar..."
   ]
  },
  {
   "cell_type": "markdown",
   "metadata": {},
   "source": [
    "## ¿Qué es `streamlit`?"
   ]
  },
  {
   "cell_type": "markdown",
   "metadata": {},
   "source": [
    "Es una biblioteca que hace fácil crear aplicaciones web para mostrar resultados de tus análisis de datos."
   ]
  },
  {
   "cell_type": "markdown",
   "metadata": {},
   "source": [
    "Esto está muy bien pero con este tipo de herramientas pasa que nos tenemos que adaptar nosotros a su forma de hacer las cosas. Si su forma de hacer las cosas se ajusta a nuestras necesidades será perfecto. Si no es así hará que salirse de la norma nos ponga las cosas muy complicadas o las haga imposible. Sabiendo esto de partida veamos las posibilidades."
   ]
  },
  {
   "cell_type": "markdown",
   "metadata": {},
   "source": [
    "## ¿Cómo lo hacemos?"
   ]
  },
  {
   "cell_type": "markdown",
   "metadata": {},
   "source": [
    "La idea es escribir un *script* con código Python y ejecutarlo desde la línea de comandos (con el entorno `streamlit` acttivado) usando:"
   ]
  },
  {
   "cell_type": "markdown",
   "metadata": {},
   "source": [
    "`streamlit run mi_programa.py [-- otros posibles argumentos]`"
   ]
  },
  {
   "cell_type": "markdown",
   "metadata": {},
   "source": [
    "En cuanto se ejecute lo anterior se creará un servidor local que mostrará lo que haya decidido mostrar mediante el código incluido en el *script* **mi_programa.py**."
   ]
  },
  {
   "cell_type": "markdown",
   "metadata": {},
   "source": [
    "Para mostrar cosas en pantalla en la web, `streamlit` me proporciona una interfaz amplia (y que se sigue ampliando rápidamente). Algunas de las cosas que podemos usar en nuestro *script* Python (en los ejemplos siguientes suón que he importado `streamlit` de la siguiente forma `import streamlit as st`:\n",
    "\n",
    "### Texto:\n",
    "\n",
    "* `st.title(\"Esto sería un título\")`: Principalmente usado para el título de la webapp. En realidad inserta una etiqueta H1 en HTML.\n",
    "\n",
    "* `st.header(\"Esto sería un cabecero\")`: Esto es un header como una etiqueta H2 en HTML.\n",
    "\n",
    "* `st.subheader(\"Esto sería un cabecero menor\")`: Esto es un header como una etiqueta H3 en HTML.\n",
    "\n",
    "* `st.text(\"Esto sería texto\")`: Inserta texto con letras de ancho constante (como las que se ven en un IDE o en una consola).\n",
    "\n",
    "* `st.latex(\"y = x^2\")`: Permite mostrar *latex* en pantalla.\n",
    "\n",
    "* `st.code(\"a = 1\", language=\"python\")`: Este es una forma especial del siguiente comando que se ha creado por conveniencia y que permite mostrar código en pantalla con su resaltado gracias a la *keyword* `language` que nos permite indicar como queremos resaltar el código.\n",
    "\n",
    "* `st.markdown(\"Esto es **texto** usando *Markdown*\")`: Inserta texto que permite formatearlo como si fuera Markdown.\n",
    "\n",
    "* `st.write(...)`: Este comando funciona de comodín y permite escribir muchas cosas y dependiendo de lo que usamos funcionará de una forma u otra. Por ejemplo, podemos usar texto y funcionará mostrando texto. Pero podemos usar un `DataFrame` de `pandas` y lo mostrará usando el método especial del objeto `_repr_html_`. Podemos usar una figura de `matplotlib`, de `altair`, de `plotly`, de `bokeh`,...\n",
    "\n",
    "Las dos últimas son un poco las opciones estrella puesto que disponen de una opción, `unsafe_allow_html`, que permite pasar código HTML (y CSS y JS) y proporciona mucha más libertad. Pero esto lo quieren eliminar por temas de seguiridad ya que inyectar según qué código puede ser peligroso. De la documentación:\n",
    "\n",
    "> That said, we strongly advise against it. It is hard to write secure HTML, so by using this argument you may be compromising your users’ security."
   ]
  },
  {
   "cell_type": "markdown",
   "metadata": {},
   "source": [
    "Puedes ver cómo lo está usando/abusando la gente visitando este hilo en su foro de discusión: https://discuss.streamlit.io/t/are-you-using-html-in-markdown-tell-us-why/96"
   ]
  },
  {
   "cell_type": "markdown",
   "metadata": {},
   "source": [
    "Con lo que ya he mostrado vamos a hacer nuestro *Hola Mundo* inicial. Guardamos el siguiente código en un fichero que se llame *app01.py* en la carpeta que quieras:"
   ]
  },
  {
   "cell_type": "markdown",
   "metadata": {},
   "source": [
    "```\n",
    "import streamlit as st\n",
    "\n",
    "st.title('Título')\n",
    "st.header(\"Cabecero\")\n",
    "st.subheader(\"SubCabecero\")\n",
    "st.text(\"Esto es texto\")\n",
    "st.latex(\"y = x^2\")\n",
    "st.code(\"if a == 1:\\n    print(a)\", language=\"python\")\n",
    "st.code(\"var a = 1;\", language=\"javascript\")\n",
    "st.markdown(\"Esto es **texto** usando *Markdown*\")```"
   ]
  },
  {
   "cell_type": "markdown",
   "metadata": {},
   "source": [
    "Desde la carpeta donde he guardado el fichero *app01.py* y con el entorno `streamlit` activado escribo en la carpeta de comandos:"
   ]
  },
  {
   "cell_type": "markdown",
   "metadata": {},
   "source": [
    "`streamlit run app01.py`"
   ]
  },
  {
   "cell_type": "markdown",
   "metadata": {},
   "source": [
    "Y, si no hay errores, mostrará en pantalla algo como:\n",
    "\n",
    "```\n",
    "  You can now view your Streamlit app in your browser.\n",
    "\n",
    "  Local URL: http://localhost:8501\n",
    "  Network URL: http://172.172.172.172:8501\n",
    "```\n",
    "\n",
    "Y se abrirá una pestaña en el navegador (Si no se abre copia `http://localhost:8501` y pégalo en la barra de direcciones en una nueva pestaña de tu navegador). Si todo funciona bien veré algo como lo siguiente:\n",
    "\n",
    "![](imgs/app01-streamlit.png)"
   ]
  },
  {
   "cell_type": "markdown",
   "metadata": {},
   "source": [
    "En la parte principal se ve todo lo que hemos escrito en el programa Python. Abajo nos inyecta un pie de página con 'Made with Streamlit' y, además, añade un menú que muestro desplegado en la figura anterior."
   ]
  },
  {
   "cell_type": "markdown",
   "metadata": {},
   "source": [
    "## Entrando en la parte interesante"
   ]
  },
  {
   "cell_type": "markdown",
   "metadata": {},
   "source": [
    "Lo anterior está muy bien y muestra un poco la mecánica de cómo mostrar cosas en pantalla en tu aplicación web pero de momento no he mostrado nada muy interesante. Ahora voy a hacer algo más interesante deteniéndome mucho menos para que este hilo no se haga eterno. Si queréis más detalle visitad la [documentación](https://docs.streamlit.io/index.html)."
   ]
  },
  {
   "cell_type": "markdown",
   "metadata": {},
   "source": [
    "Lo que voy a hacer va a ser convertir lo que hice en este artículo [pybooooo] en algo más interactivo para que cualquiera se pueda descargar un gráfico para la localización que considere."
   ]
  },
  {
   "cell_type": "markdown",
   "metadata": {},
   "source": [
    "Antes de continuar hemos de instalar una serie de cosas en el entorno `streamlit` para que el ejemplo funcione:"
   ]
  },
  {
   "cell_type": "markdown",
   "metadata": {},
   "source": [
    "`conda install -c conda-forge numpy pandas matplotlib xarray netcdf4 seaborn`"
   ]
  },
  {
   "cell_type": "markdown",
   "metadata": {},
   "source": [
    "En una primera versión solo voy a añadir un par de *sliders* que permitan elegir la latitud y la longitud y un botón para que calcule la gráfica. Escribo el código y lo explico brevemente. Lo guardaré en un fichero llamado app02.py:"
   ]
  },
  {
   "cell_type": "markdown",
   "metadata": {},
   "source": [
    "```\n",
    "from typing import Union\n",
    "\n",
    "import streamlit as st\n",
    "import xarray as xr\n",
    "import pandas as pd\n",
    "import matplotlib\n",
    "matplotlib.use('TkAgg')\n",
    "import matplotlib.pyplot as plt\n",
    "import seaborn as sns\n",
    "import numpy as np\n",
    "\n",
    "# Esto se explicó en:\n",
    "# https://pybonacci.org/2020/01/20/pintando-las-bandas-del-calentamiento-warming-stripes-con-seaborn-y-matplotlib-en-python/\n",
    "def read_noaa(filename: str) -> xr.Dataset:\n",
    "    \"\"\"Read the netCDF file downloaded using `download_noaa`.\n",
    " \n",
    "    Parameters\n",
    "    ----------\n",
    "    filename : str\n",
    "        The name of the file to read as `xarray.Dataset`\n",
    " \n",
    "    Returns\n",
    "    -------\n",
    "    `xarray.Dataset`\n",
    "    \"\"\"\n",
    "    return xr.open_dataset(filename)\n",
    " \n",
    "# Esto se explicó en:\n",
    "# https://pybonacci.org/2020/01/20/pintando-las-bandas-del-calentamiento-warming-stripes-con-seaborn-y-matplotlib-en-python/\n",
    "def get_noaa_timeseries(\n",
    "        xarr: xr.Dataset, \n",
    "        lon: Union[int, float], \n",
    "        lat: Union[int, float]\n",
    "    ) -> xr.Dataset:\n",
    "    \"\"\"Get the annual temperature anomaly time series from NOAA data.\n",
    " \n",
    "    Parameters\n",
    "    ----------\n",
    "    xarr : xr.Dataset\n",
    "        `xarray.Dataset` containing the monthly anomalies.\n",
    "    lon : Union[int, float]\n",
    "        Longitude in decimal degrees. It will return the closest timeseries\n",
    "        to this location.\n",
    "    lat : Union[int, float]\n",
    "        Latitude in decimal degrees. It will return the closest timeseries\n",
    "        to this location.\n",
    " \n",
    "    Returns\n",
    "    -------\n",
    "    `xarray.Dataset`.\n",
    "    \"\"\"\n",
    "    data = xarr.sel(lon=lon, lat=lat, z=0, method='nearest')\n",
    "    df = data.to_dataframe()['anom']\n",
    "    ts = df * df.index.days_in_month\n",
    "    ts = (     \n",
    "        ts.groupby(pd.Grouper(freq='Y')).mean()      \n",
    "        /      \n",
    "        ts.groupby(pd.Grouper(freq='Y')).count() \n",
    "    )\n",
    "    ts.name = \"Anomalía de Temperatura\"\n",
    "    return ts[ts.index.year < 2020] # <- Modificado solo para usar años completos\n",
    "\n",
    "# Esto se explicó en:\n",
    "# https://pybonacci.org/2020/01/20/pintando-las-bandas-del-calentamiento-warming-stripes-con-seaborn-y-matplotlib-en-python/\n",
    "def plot_noaa(\n",
    "        xarr: xr.Dataset,\n",
    "        lon: Union[int, float],\n",
    "        lat: Union[int, float]\n",
    "    ) -> None:\n",
    "    lon = float(lon)\n",
    "    lat = float(lat)\n",
    "    ts = get_noaa_timeseries(xarr, lon, lat)\n",
    "    # warming stripes adapted from https://towardsdatascience.com/climate-heatmaps-made-easy-6ec5be0be6ff\n",
    "    fig, ax = plt.subplots(figsize=(12, 5))\n",
    "    sns.heatmap(\n",
    "        data=ts.values[np.newaxis,:],\n",
    "        ax=ax,\n",
    "        cmap='RdBu_r',\n",
    "        cbar=False,\n",
    "        vmin=ts.min(),\n",
    "        vmax=ts.max(),\n",
    "        center=0.,\n",
    "        xticklabels=False, \n",
    "        yticklabels=False,\n",
    "    )\n",
    "    fig.tight_layout()\n",
    "    #fig.savefig(\"warming_stripes.png\")\n",
    "    return fig, ts # <- Modificado para no guardar la imagen y devolver fig y ts\n",
    "    \n",
    "\n",
    "# Código para mostrar en la aplicación Web\n",
    "# Esta es la parte que explicaré con un poco más de detalle.\n",
    "xarr = read_noaa(\"NOAA_V5_air_temperature_anomaly.nc\")\n",
    "\n",
    "st.title('#ShowYourStripes')\n",
    "lon = st.slider(\n",
    "    label=\"Longitud\",\n",
    "    min_value=0.0,\n",
    "    max_value=360.0,\n",
    "    value=0.0,\n",
    "    step=0.5,\n",
    ")\n",
    "lat = st.slider(\n",
    "    label=\"Latitud\",\n",
    "    min_value=-90.0,\n",
    "    max_value=90.0,\n",
    "    value=40.0,\n",
    "    step=0.5,\n",
    ")\n",
    "if st.button(\"Pinta\"):\n",
    "    st.markdown(f\"Longitud: {lon:.1f}\")\n",
    "    st.markdown(f\"Latitud:  {lat:.1f}\")\n",
    "    fig, ts = plot_noaa(xarr, 2.5, 39.5)\n",
    "    st.pyplot(fig)\n",
    "    st.table(ts)\n",
    "else:\n",
    "    st.markdown(\n",
    "        \"Selecciona la localización usando los controles Y pulsa en \"\n",
    "        \"el botón 'Pinta'.\"\n",
    "    )\n",
    "```"
   ]
  },
  {
   "cell_type": "markdown",
   "metadata": {},
   "source": [
    "Para que el código anterior funcione debes descargar el [fichero con los datos de temperatura](https://www.ncei.noaa.gov/data/noaa-global-surface-temperature/v5/access/gridded/) en el mismo sitio donde se encuentre el fichero *app02.py* y se debe llamar *NOAA_V5_air_temperature_anomaly.nc*."
   ]
  },
  {
   "cell_type": "markdown",
   "metadata": {},
   "source": [
    "Como he comentado, me centro en esta parte:\n",
    "\n",
    "```\n",
    "xarr = read_noaa(\"NOAA_V5_air_temperature_anomaly.nc\")\n",
    "\n",
    "st.title('#ShowYourStripes')\n",
    "lon = st.slider(\n",
    "    label=\"Longitud\",\n",
    "    min_value=0.0,\n",
    "    max_value=360.0,\n",
    "    value=0.0,\n",
    "    step=0.5,\n",
    ")\n",
    "lat = st.slider(\n",
    "    label=\"Latitud\",\n",
    "    min_value=-90.0,\n",
    "    max_value=90.0,\n",
    "    value=40.0,\n",
    "    step=0.5,\n",
    ")\n",
    "if st.button(\"Pinta\"):\n",
    "    st.markdown(f\"Longitud: {lon:.1f}\")\n",
    "    st.markdown(f\"Latitud:  {lat:.1f}\")\n",
    "    fig, ts = plot_noaa(xarr, 2.5, 39.5)\n",
    "    st.pyplot(fig)\n",
    "    st.table(ts)\n",
    "else:\n",
    "    st.markdown(\n",
    "        \"Selecciona la localización usando los controles Y pulsa en \"\n",
    "        \"el botón 'Pinta'.\"\n",
    "    )\n",
    "```\n",
    "\n",
    "* `xarr = read_noaa(\"NOAA_V5_air_temperature_anomaly.nc\")`: Leemos los datos en formato NetCDF.\n",
    "* `st.title('#ShowYourStripes')`: Explicado más arriba.\n",
    "* `lon = st.slider(...)`: Añade un control para deslizar entre un rango y con un paso y una posición inicial. Lo mismo se hace con `lat`. Esto me permite obtener información del usuario y guardarlo en las variables `lon` y `lat` que usaré más tarde.\n",
    "* `if st.button(...): ... else: ...`: En este caso añadimos un botón que cuando pulsemos hará lo que aparece en la condición y cuando actualicemos cualquier control mostrará lo del `else`.\n",
    "* `st.pyplot(fig)`: Dentro de la condición uso `st.pyplot` que me permite mostrar instancias de `Figure` (`matplotlib`).\n",
    "* `st.table(ts)`: Me permite mostrar un `DataFrame` o una `Series` de `pandas` como una tabla HTML. Puedo hacer algo muy similar usando `st.dataframe(ts)`. La ventaja del segundo es que, por ejemplo, podemos ordenar por los valores de una columna o estilizar la tabla. De momento uso `st.table` para simplificar."
   ]
  },
  {
   "cell_type": "markdown",
   "metadata": {},
   "source": [
    "Para ver la aplicación en acción debemos ejecutar desde una línea de comandos, localizada en la misma carpeta donde hemos guardardo *app02.py* y los datos y con el entorno `streamlit` esté activado, lo siguiente:"
   ]
  },
  {
   "cell_type": "markdown",
   "metadata": {},
   "source": [
    "`streamlit run app02.py`"
   ]
  },
  {
   "cell_type": "markdown",
   "metadata": {},
   "source": [
    "Y deberás ver algo parecido a:"
   ]
  },
  {
   "cell_type": "markdown",
   "metadata": {},
   "source": [
    "![](imgs/app02-Streamlit.png)"
   ]
  },
  {
   "cell_type": "markdown",
   "metadata": {},
   "source": [
    "Hay muchos más controles útiles que podría usar, *checkboxes*^, menús *drop-down*,... Dependiendo de la aplicación y la necesidad tendrá sentido usar unos u otros."
   ]
  },
  {
   "cell_type": "markdown",
   "metadata": {},
   "source": [
    "Podemos iterar sobre esta idea. Ahora, para seguir viendo más cosas que podemos hacer con `streamlit`, voy a añadir un mapa que indique la serie que he seleccionado y voy a meter los controles en el lateral para que la navegación sea más cómoda.\n",
    "\n",
    "Para mostrar un mapa y que sea algo más interactivo voy a usar `folium`. Primero habrá que instalarlo en el entorno `streamlit`. Lo puedes hacer usando:\n",
    "\n",
    "`conda install -c conda-forge folium`\n",
    "\n",
    "Escribo primero el código que guardaré en el fichero *app03.py* y luego comento las partes nuevas:"
   ]
  },
  {
   "cell_type": "markdown",
   "metadata": {},
   "source": [
    "```\n",
    "from typing import Union\n",
    "from pathlib import Path\n",
    "import json\n",
    "\n",
    "import streamlit as st\n",
    "import xarray as xr\n",
    "import pandas as pd\n",
    "import matplotlib\n",
    "matplotlib.use('TkAgg')\n",
    "import matplotlib.pyplot as plt\n",
    "import seaborn as sns\n",
    "import numpy as np\n",
    "import folium\n",
    "\n",
    "# Esto se explicó en:\n",
    "# https://pybonacci.org/2020/01/20/pintando-las-bandas-del-calentamiento-warming-stripes-con-seaborn-y-matplotlib-en-python/\n",
    "def read_noaa(filename: str) -> xr.Dataset:\n",
    "    \"\"\"Read the netCDF file downloaded using `download_noaa`.\n",
    " \n",
    "    Parameters\n",
    "    ----------\n",
    "    filename : str\n",
    "        The name of the file to read as `xarray.Dataset`\n",
    " \n",
    "    Returns\n",
    "    -------\n",
    "    `xarray.Dataset`\n",
    "    \"\"\"\n",
    "    return xr.open_dataset(filename)\n",
    " \n",
    "# Esto se explicó en:\n",
    "# https://pybonacci.org/2020/01/20/pintando-las-bandas-del-calentamiento-warming-stripes-con-seaborn-y-matplotlib-en-python/\n",
    "def get_noaa_timeseries(\n",
    "        xarr: xr.Dataset, \n",
    "        lon: Union[int, float], \n",
    "        lat: Union[int, float]\n",
    "    ) -> xr.Dataset:\n",
    "    \"\"\"Get the annual temperature anomaly time series from NOAA data.\n",
    " \n",
    "    Parameters\n",
    "    ----------\n",
    "    xarr : xr.Dataset\n",
    "        `xarray.Dataset` containing the monthly anomalies.\n",
    "    lon : Union[int, float]\n",
    "        Longitude in decimal degrees. It will return the closest timeseries\n",
    "        to this location.\n",
    "    lat : Union[int, float]\n",
    "        Latitude in decimal degrees. It will return the closest timeseries\n",
    "        to this location.\n",
    " \n",
    "    Returns\n",
    "    -------\n",
    "    `xarray.Dataset`.\n",
    "    \"\"\"\n",
    "    data = xarr.sel(lon=lon, lat=lat, z=0, method='nearest')\n",
    "    df = data.to_dataframe()['anom']\n",
    "    ts = df * df.index.days_in_month\n",
    "    ts = (     \n",
    "        ts.groupby(pd.Grouper(freq='Y')).mean()      \n",
    "        /      \n",
    "        ts.groupby(pd.Grouper(freq='Y')).count() \n",
    "    )\n",
    "    ts.name = \"Anomalía de Temperatura\"\n",
    "    return ts[ts.index.year < 2020] # <- Modificado solo para usar años completos\n",
    "\n",
    "# Esto se explicó en:\n",
    "# https://pybonacci.org/2020/01/20/pintando-las-bandas-del-calentamiento-warming-stripes-con-seaborn-y-matplotlib-en-python/\n",
    "def plot_noaa(\n",
    "        xarr: xr.Dataset,\n",
    "        lon: Union[int, float],\n",
    "        lat: Union[int, float]\n",
    "    ) -> None:\n",
    "    lon = float(lon)\n",
    "    lat = float(lat)\n",
    "    ts = get_noaa_timeseries(xarr, lon, lat)\n",
    "    # warming stripes adapted from https://towardsdatascience.com/climate-heatmaps-made-easy-6ec5be0be6ff\n",
    "    fig, ax = plt.subplots(figsize=(12, 5))\n",
    "    sns.heatmap(\n",
    "        data=ts.values[np.newaxis,:],\n",
    "        ax=ax,\n",
    "        cmap='RdBu_r',\n",
    "        cbar=False,\n",
    "        vmin=ts.min(),\n",
    "        vmax=ts.max(),\n",
    "        center=0.,\n",
    "        xticklabels=False, \n",
    "        yticklabels=False,\n",
    "    )\n",
    "    fig.tight_layout()\n",
    "    #fig.savefig(\"warming_stripes.png\")\n",
    "    return fig, ts # <- Modificado para no guardar la imagen y devolver fig y ts\n",
    "\n",
    "def create_geojson_grid(\n",
    "    xnodes: Union[list, tuple, np.array], \n",
    "    ynodes: Union[list, tuple, np.array], \n",
    "    filename: str) -> None:\n",
    "    \"\"\"Function that creates polygons in a regular grid and creates\n",
    "    a geojson file.\n",
    "\n",
    "    Parameters\n",
    "    ----------\n",
    "    xnodes : array-like\n",
    "        1D array like (`list`, `tuple`, `numpy.array`,...) with the\n",
    "        longitude coordinates in decimal values.\n",
    "    ynodes : array-like\n",
    "        1D array like (`list`, `tuple`, `numpy.array`,...) with the\n",
    "        latitude coordinates in decimal values.\n",
    "    filename : str\n",
    "        Output filename for the geojson file.\n",
    "\n",
    "    Returns\n",
    "    -------\n",
    "    None.\n",
    "\n",
    "    \"\"\"\n",
    "    with open(filename, 'w') as f:\n",
    "        gj = '{\"type\":\"FeatureCollection\",\"features\":['\n",
    "        for x1, x2 in zip(xnodes[:-1], xnodes[1:]):\n",
    "            x1 = int(x1)\n",
    "            x2 = int(x2)\n",
    "            xnode_half_width = x2 - x1\n",
    "            for y1, y2 in zip(ynodes[:-1], ynodes[1:]):\n",
    "                y1 = int(y1)\n",
    "                y2 = int(y2)\n",
    "                xnode_half_width = x2 - x1\n",
    "                text = f\"from ({x1},{y1}) to ({x2},{y2})\"\n",
    "                coords = [[[x1, y1], [x2, y1], [x2, y2], [x1, y2]]]\n",
    "                pol = {\n",
    "                    \"type\": \"Feature\",\n",
    "                    \"id\": f\"{text}\",\n",
    "                    \"properties\": {\n",
    "                        \"name\": f\"{text}\",\n",
    "                        \"lon_center\": x1 + xnode_half_width,\n",
    "                        \"lat_center\": y1 + xnode_half_width,\n",
    "                    },\n",
    "                    \"geometry\":{\"type\":\"Polygon\",\"coordinates\": coords}\n",
    "                }\n",
    "                gj += json.dumps(pol)\n",
    "                gj += ','\n",
    "        gj = gj[:-1] + ']}'\n",
    "        f.write(gj)\n",
    "\n",
    "def create_map(\n",
    "        lon: Union[int, float],\n",
    "        lat: Union[int, float],\n",
    "        tile: str = \"OpenStreetMap\",\n",
    "    ) -> None:\n",
    "    mapa = folium.Map(location=(lat, lon), tiles=tile, zoom_start=5)\n",
    "    filename = Path(\".\", \"noaagrid.geojson\")\n",
    "    if not filename.is_file():\n",
    "        xnodes = np.arange(-180, 185, 5)\n",
    "        ynodes = np.arange(-90, 95, 5)\n",
    "        create_geojson_grid(xnodes, ynodes, filename)\n",
    "    folium.GeoJson(str(filename), name=\"grid\").add_to(mapa)\n",
    "    tooltip = \"Posición elegida por el usuario\"\n",
    "    folium.Marker(\n",
    "        [lat, lon], \n",
    "        popup=f\"<i>Lon: {lon:.1f}, Lat: {lat:.1f}</i>\", \n",
    "        tooltip=tooltip\n",
    "    ).add_to(mapa)\n",
    "    return mapa\n",
    "\n",
    "\n",
    "# Código para mostrar en la aplicación Web\n",
    "# Esta es la parte que explicaré con un poco más de detalle.\n",
    "xarr = read_noaa(\"NOAA_V5_air_temperature_anomaly.nc\")\n",
    "\n",
    "st.title('#ShowYourStripes')\n",
    "lon = st.sidebar.slider(\n",
    "    label=\"Longitud\",\n",
    "    min_value=0.0,\n",
    "    max_value=360.0,\n",
    "    value=2.5,\n",
    "    step=0.5,\n",
    ")\n",
    "lat = st.sidebar.slider(\n",
    "    label=\"Latitud\",\n",
    "    min_value=-90.0,\n",
    "    max_value=90.0,\n",
    "    value=39.5,\n",
    "    step=0.5,\n",
    ")\n",
    "tile = st.sidebar.selectbox(\n",
    "    label=\"Mapa base\",\n",
    "    options=[\"OpenStreetMap\", \"Stamen Toner\", \"Stamen Terrain\",\n",
    "             \"Stamen Watercolor\", \"CartoDB positron\", \"CartoDB dark_matter\"],\n",
    "    index=0,\n",
    ")\n",
    "if st.sidebar.button(\"Pinta\"):\n",
    "    st.markdown(f\"Longitud: {lon:.1f}\")\n",
    "    st.markdown(f\"Latitud:  {lat:.1f}\")\n",
    "    fig, ts = plot_noaa(xarr, 2.5, 39.5)\n",
    "    mapa = create_map(lon, lat, tile=tile)\n",
    "    st.pyplot(fig)\n",
    "    st.markdown(mapa._repr_html_(), unsafe_allow_html=True)\n",
    "    st.table(ts)\n",
    "else:\n",
    "    st.markdown(\n",
    "        \"Selecciona la localización usando los controles Y pulsa en \"\n",
    "        \"el botón 'Pinta'.\"\n",
    "    )\n",
    "```"
   ]
  },
  {
   "cell_type": "markdown",
   "metadata": {},
   "source": [
    "Entre las novedades de la versión 3 de nuestra aplicación he incluido:\n",
    "\n",
    "* `create_geojson_grid`: Esta es una función que crea un fichero [GeoJson](https://es.wikipedia.org/wiki/GeoJSON) con polígonos de 5x5 grados alrededor de cada nodo donde tenemos datos de temperatura. Este GeoJson lo uso luego en `folium`.\n",
    "* `create_map`: Esta función me ayuda a crear el mapa que quiero mostrar en pantalla. Crea un mapa, lee el GeoJson creado con la función anterior y añade, además, un marcador en la localización que ha elegido el usuario.\n",
    "\n",
    "En la parte de los controles he añadido:\n",
    "\n",
    "* `tile = st.sidebar.selectbox(...)`: Esto añade un menú *drop-down* en la barra lateral de controles. Me permite elegit los *tiles* que usará el mapa de `folium`.\n",
    "\n",
    "En la parte de mostrar resultados (el contenedor principal) he añadido:\n",
    "\n",
    "* `st.markdown(mapa._repr_html_(), unsafe_allow_html=True)`: De esta forma puedo representar el código HTML del mapa de `folium` y que se muestre sin problemas. PERO RECUERDA QUE LA OPCIÓN `unsafe_allow_html` LA QUIEREN ELIMINAR. Supongo que añadirán alguna alternativa pero habrá que ver cómo evoluciona."
   ]
  },
  {
   "cell_type": "markdown",
   "metadata": {},
   "source": [
    "Aquí puedes ver cómo quedaría:\n",
    "\n",
    "![](imgs/app03-Streamlit.png)"
   ]
  },
  {
   "cell_type": "markdown",
   "metadata": {},
   "source": [
    "## Resumen"
   ]
  },
  {
   "cell_type": "markdown",
   "metadata": {},
   "source": [
    "Esto ha sido solo un ejemplo real de uso de `streamlit` para crear un cuadro de mando (*dashboard*) de unos datos reales. Como ves, parece bastante sencillo de usar. Todo es código Python y la parte de la aplicación es muy pequeña, el resto del código es el análisis normal que se haría para obtener el gráfico.\n",
    "\n",
    "Cosas que me han gustado:\n",
    "\n",
    "* Prácticamente no interfiere en el código normal que escribimos. Con un par de funciones y algo de código para crear la capa visual tenemos una aplicación funcional.\n",
    "* La capa visual (`streamlit`) me parece que está muy bien pensada con opciones que con poco permiten hacer mucho.\n",
    "* El desarrollo está muy activo y están preguntando a los usuarios lo cual me parece positivo.\n",
    "* Permite pasar de la idea a una aplicación usable en muy poco tiempo.\n",
    "\n",
    "Cosas que no me han gustado:\n",
    "\n",
    "* Está muy verde aun y el servidor se 'rompe' cada dos por tres.\n",
    "* Es muy lento. Existe una opción para *cachear* cosas pero no creo que sea muy útil en muchos casos.\n",
    "* Si te sales del guión será difícil hacer algo muy personalizado y te tocará ir a contracorriente.\n",
    "* Está muy enfocado a crear un producto por lo que no sé si acabará siendo positivo o negativo y genera cierta incertidumbre para adoptarlo. Otros modelos como el de plotly parace que han funcionado bien por lo que esto no es necesariamente negativo pero sí que es negativa la incertidumbre.\n",
    "* Si se adopta de forma masiva veríamos mcuhas webs muy parecidas. Similar a la bootstrap-ificación de la web en general. Eso resta diversidad visual, de enfoques, de soluciones,..."
   ]
  },
  {
   "cell_type": "markdown",
   "metadata": {},
   "source": [
    "¿Has usado alguna de las otras opciones para crear un cuadro de mando? Puedes comentar si te gusta la idea detrás de Panel, cómo se hacen las cosas con Voilà, la facilidad de uso de Dash,... O, incluso mejor, nos puedes escribir un artículo contándonos tus impresiones. Estaría genial para poder comparar.\n",
    "\n",
    "Y eso es todo por hoy.\n",
    "\n",
    "Saludos."
   ]
  }
 ],
 "metadata": {
  "kernelspec": {
   "display_name": "Python 3",
   "language": "python",
   "name": "python3"
  },
  "language_info": {
   "codemirror_mode": {
    "name": "ipython",
    "version": 3
   },
   "file_extension": ".py",
   "mimetype": "text/x-python",
   "name": "python",
   "nbconvert_exporter": "python",
   "pygments_lexer": "ipython3",
   "version": "3.6.7"
  }
 },
 "nbformat": 4,
 "nbformat_minor": 4
}
